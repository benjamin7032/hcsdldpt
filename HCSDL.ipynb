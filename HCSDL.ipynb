{
 "cells": [
  {
   "cell_type": "code",
   "execution_count": 1,
   "id": "d93ae7f9",
   "metadata": {},
   "outputs": [],
   "source": [
    "import librosa\n",
    "import numpy as np\n",
    "from scipy.signal import butter,freqz, findfreqs,filtfilt\n",
    "from scipy import signal\n",
    "import os\n",
    "import pandas as pd"
   ]
  },
  {
   "cell_type": "code",
   "execution_count": 2,
   "id": "7d173a2f",
   "metadata": {},
   "outputs": [],
   "source": [
    "# Tiền xử lý dữ liệu âm thanh\n",
    "fs = 44100\n",
    "lowcut = 20\n",
    "highcut = 20000\n",
    "Wn = (2 * lowcut / fs, 2 * highcut / fs) \n",
    "\n",
    "def preprocess_audio(audio_file):\n",
    "    # Chuyển đổi tần số lấy mẫu\n",
    "    signal, sr = librosa.load(audio_file, sr=22050)\n",
    "    # Cắt 1 giây đầu của tệp âm thanh\n",
    "    signal = signal[sr:]\n",
    "    # Lọc tạp âm bằng bộ lọc số học\n",
    "    b, a = butter(2, Wn, btype='band')\n",
    "    signal_filtered = filtfilt(b, a, signal)\n",
    "    return signal_filtered, sr\n"
   ]
  },
  {
   "cell_type": "code",
   "execution_count": 3,
   "id": "6af60fd1",
   "metadata": {},
   "outputs": [],
   "source": [
    "# Trích xuất đặc trưng MFCC\n",
    "def extract_features(signal, sr):\n",
    "    # Sử dụng khung cửa sổ trượt độ dài 512 mẫu\n",
    "    hop_length = 512\n",
    "    # Trích xuất đặc trưng MFCC với số cấp MFCC là 13\n",
    "    mfccs = librosa.feature.mfcc(y=signal, sr=sr, n_mfcc=13, hop_length=hop_length)\n",
    "    # Trung bình các giá trị MFCC trên toàn bộ tệp âm thanh\n",
    "    features = np.mean(mfccs.T, axis=0)\n",
    "    return features"
   ]
  },
  {
   "cell_type": "code",
   "execution_count": 4,
   "id": "7054f815",
   "metadata": {},
   "outputs": [],
   "source": [
    "from sklearn.ensemble import RandomForestClassifier\n",
    "def train_model(X_train, y_train):\n",
    "    rf_model = RandomForestClassifier(n_estimators=100)\n",
    "    rf_model.fit(X_train, y_train)\n",
    "    return rf_model\n"
   ]
  },
  {
   "cell_type": "code",
   "execution_count": 5,
   "id": "61e884db",
   "metadata": {},
   "outputs": [],
   "source": [
    "def predict_audio(audio_file, model):\n",
    "    signal, sr = preprocess_audio(audio_file)\n",
    "    features = extract_features(signal, sr)\n",
    "    prediction = model.predict([features])\n",
    "    return prediction[0]"
   ]
  },
  {
   "cell_type": "code",
   "execution_count": 6,
   "id": "50800eb8",
   "metadata": {},
   "outputs": [
    {
     "name": "stdout",
     "output_type": "stream",
     "text": [
      "                     File                           label\n",
      "0                mbn1.wav                    máy bơm nước\n",
      "1                mbn2.wav                    máy bơm nước\n",
      "2                mbn3.wav                    máy bơm nước\n",
      "3                mbn4.wav                    máy bơm nước\n",
      "4                mbn5.wav                    máy bơm nước\n",
      "..                    ...                             ...\n",
      "132  fruit_juicer (5).mp3  máy ép trái cây (fruit juicer)\n",
      "133  fruit_juicer (6).mp3  máy ép trái cây (fruit juicer)\n",
      "134  fruit_juicer (7).mp3  máy ép trái cây (fruit juicer)\n",
      "135  fruit_juicer (8).mp3  máy ép trái cây (fruit juicer)\n",
      "136  fruit_juicer (9).mp3  máy ép trái cây (fruit juicer)\n",
      "\n",
      "[137 rows x 2 columns]\n"
     ]
    }
   ],
   "source": [
    "# Đọc dữ liệu từ file CSV\n",
    "data = pd.read_csv('data.csv')\n",
    "print(data)"
   ]
  },
  {
   "cell_type": "code",
   "execution_count": 7,
   "id": "2e6987f0",
   "metadata": {},
   "outputs": [
    {
     "name": "stdout",
     "output_type": "stream",
     "text": [
      "{'mbn1.wav': 'máy bơm nước', 'mbn2.wav': 'máy bơm nước', 'mbn3.wav': 'máy bơm nước', 'mbn4.wav': 'máy bơm nước', 'mbn5.wav': 'máy bơm nước', 'mbn6.wav': 'máy bơm nước', 'mbn7.wav': 'máy bơm nước', 'mbn8.wav': 'máy bơm nước', 'mc1.wav': 'máy cưa', 'mc10.wav': 'máy cưa', 'mc11.wav': 'máy cưa', 'mc12.wav': 'máy cưa', 'mc2.wav': 'máy cưa', 'mc3.wav': 'máy cưa', 'mc4.wav': 'máy cưa', 'mc5.wav': 'máy cưa', 'mc6.wav': 'máy cưa', 'mc7.wav': 'máy cưa', 'mc8.wav': 'máy cưa', 'mc9.wav': 'máy cưa', 'lawn_tractor (1).mp3': 'máy cắt cỏ (lawn tractor)', 'lawn_tractor (10).mp3': 'máy cắt cỏ (lawn tractor)', 'lawn_tractor (11).mp3': 'máy cắt cỏ (lawn tractor)', 'lawn_tractor (12).mp3': 'máy cắt cỏ (lawn tractor)', 'lawn_tractor (13).mp3': 'máy cắt cỏ (lawn tractor)', 'lawn_tractor (14).mp3': 'máy cắt cỏ (lawn tractor)', 'lawn_tractor (15).mp3': 'máy cắt cỏ (lawn tractor)', 'lawn_tractor (2).mp3': 'máy cắt cỏ (lawn tractor)', 'lawn_tractor (3).mp3': 'máy cắt cỏ (lawn tractor)', 'lawn_tractor (4).mp3': 'máy cắt cỏ (lawn tractor)', 'lawn_tractor (5).mp3': 'máy cắt cỏ (lawn tractor)', 'lawn_tractor (6).mp3': 'máy cắt cỏ (lawn tractor)', 'lawn_tractor (7).mp3': 'máy cắt cỏ (lawn tractor)', 'lawn_tractor (8).mp3': 'máy cắt cỏ (lawn tractor)', 'lawn_tractor (9).mp3': 'máy cắt cỏ (lawn tractor)', 'vacuum_cleaner (1).mp3': 'máy hút bụi (vacuum cleaner)', 'vacuum_cleaner (10).mp3': 'máy hút bụi (vacuum cleaner)', 'vacuum_cleaner (11).mp3': 'máy hút bụi (vacuum cleaner)', 'vacuum_cleaner (12).mp3': 'máy hút bụi (vacuum cleaner)', 'vacuum_cleaner (13).mp3': 'máy hút bụi (vacuum cleaner)', 'vacuum_cleaner (14).mp3': 'máy hút bụi (vacuum cleaner)', 'vacuum_cleaner (15).mp3': 'máy hút bụi (vacuum cleaner)', 'vacuum_cleaner (16).mp3': 'máy hút bụi (vacuum cleaner)', 'vacuum_cleaner (17).mp3': 'máy hút bụi (vacuum cleaner)', 'vacuum_cleaner (2).mp3': 'máy hút bụi (vacuum cleaner)', 'vacuum_cleaner (3).mp3': 'máy hút bụi (vacuum cleaner)', 'vacuum_cleaner (4).mp3': 'máy hút bụi (vacuum cleaner)', 'vacuum_cleaner (5).mp3': 'máy hút bụi (vacuum cleaner)', 'vacuum_cleaner (6).mp3': 'máy hút bụi (vacuum cleaner)', 'vacuum_cleaner (7).mp3': 'máy hút bụi (vacuum cleaner)', 'vacuum_cleaner (8).mp3': 'máy hút bụi (vacuum cleaner)', 'vacuum_cleaner (9).mp3': 'máy hút bụi (vacuum cleaner)', 'mk1.wav': 'máy khoan', 'mk10.mp3': 'máy khoan', 'mk11.mp3': 'máy khoan', 'mk2.wav': 'máy khoan', 'mk3.wav': 'máy khoan', 'mk4.wav': 'máy khoan', 'mk5.wav': 'máy khoan', 'mk6.wav': 'máy khoan', 'mk7.wav': 'máy khoan', 'mk8.mp3': 'máy khoan', 'mk9.mp3': 'máy khoan', 'air_compresser (1).mp3': 'máy nén khí (air compresser)', 'air_compresser (10).mp3': 'máy nén khí (air compresser)', 'air_compresser (11).mp3': 'máy nén khí (air compresser)', 'air_compresser (12).mp3': 'máy nén khí (air compresser)', 'air_compresser (13).mp3': 'máy nén khí (air compresser)', 'air_compresser (14).mp3': 'máy nén khí (air compresser)', 'air_compresser (15).mp3': 'máy nén khí (air compresser)', 'air_compresser (16).mp3': 'máy nén khí (air compresser)', 'air_compresser (17).mp3': 'máy nén khí (air compresser)', 'air_compresser (2).mp3': 'máy nén khí (air compresser)', 'air_compresser (3).mp3': 'máy nén khí (air compresser)', 'air_compresser (4).mp3': 'máy nén khí (air compresser)', 'air_compresser (5).mp3': 'máy nén khí (air compresser)', 'air_compresser (6).mp3': 'máy nén khí (air compresser)', 'air_compresser (7).mp3': 'máy nén khí (air compresser)', 'air_compresser (8).mp3': 'máy nén khí (air compresser)', 'air_compresser (9).mp3': 'máy nén khí (air compresser)', 'generator (1).mp3': 'máy phát điện (generator)', 'generator (10).mp3': 'máy phát điện (generator)', 'generator (11).mp3': 'máy phát điện (generator)', 'generator (12).mp3': 'máy phát điện (generator)', 'generator (13).mp3': 'máy phát điện (generator)', 'generator (14).mp3': 'máy phát điện (generator)', 'generator (15).mp3': 'máy phát điện (generator)', 'generator (2).mp3': 'máy phát điện (generator)', 'generator (3).mp3': 'máy phát điện (generator)', 'generator (4).mp3': 'máy phát điện (generator)', 'generator (5).mp3': 'máy phát điện (generator)', 'generator (6).mp3': 'máy phát điện (generator)', 'generator (7).mp3': 'máy phát điện (generator)', 'generator (8).mp3': 'máy phát điện (generator)', 'generator (9).mp3': 'máy phát điện (generator)', 'mst11.mp3': 'máy sấy tóc', 'mst2.mp3': 'máy sấy tóc', 'mst3.mp3': 'máy sấy tóc', 'mst4.mp3': 'máy sấy tóc', 'mst5.mp3': 'máy sấy tóc', 'mst6.mp3': 'máy sấy tóc', 'mst7.mp3': 'máy sấy tóc', 'mst8.mp3': 'máy sấy tóc', 'mst9.mp3': 'máy sấy tóc', 'leaf_blower (1).mp3': 'máy thổi lá (leaf blower)', 'leaf_blower (10).mp3': 'máy thổi lá (leaf blower)', 'leaf_blower (11).mp3': 'máy thổi lá (leaf blower)', 'leaf_blower (12).mp3': 'máy thổi lá (leaf blower)', 'leaf_blower (13).mp3': 'máy thổi lá (leaf blower)', 'leaf_blower (14).mp3': 'máy thổi lá (leaf blower)', 'leaf_blower (15).mp3': 'máy thổi lá (leaf blower)', 'leaf_blower (16).mp3': 'máy thổi lá (leaf blower)', 'leaf_blower (2).mp3': 'máy thổi lá (leaf blower)', 'leaf_blower (3).mp3': 'máy thổi lá (leaf blower)', 'leaf_blower (4).mp3': 'máy thổi lá (leaf blower)', 'leaf_blower (5).mp3': 'máy thổi lá (leaf blower)', 'leaf_blower (6).mp3': 'máy thổi lá (leaf blower)', 'leaf_blower (7).mp3': 'máy thổi lá (leaf blower)', 'leaf_blower (8).mp3': 'máy thổi lá (leaf blower)', 'leaf_blower (9).mp3': 'máy thổi lá (leaf blower)', 'fruit_juicer (1).mp3': 'máy ép trái cây (fruit juicer)', 'fruit_juicer (10).mp3': 'máy ép trái cây (fruit juicer)', 'fruit_juicer (11).mp3': 'máy ép trái cây (fruit juicer)', 'fruit_juicer (12).mp3': 'máy ép trái cây (fruit juicer)', 'fruit_juicer (13).mp3': 'máy ép trái cây (fruit juicer)', 'fruit_juicer (14).mp3': 'máy ép trái cây (fruit juicer)', 'fruit_juicer (15).mp3': 'máy ép trái cây (fruit juicer)', 'fruit_juicer (16).mp3': 'máy ép trái cây (fruit juicer)', 'fruit_juicer (17).mp3': 'máy ép trái cây (fruit juicer)', 'fruit_juicer (2).mp3': 'máy ép trái cây (fruit juicer)', 'fruit_juicer (3).mp3': 'máy ép trái cây (fruit juicer)', 'fruit_juicer (4).mp3': 'máy ép trái cây (fruit juicer)', 'fruit_juicer (5).mp3': 'máy ép trái cây (fruit juicer)', 'fruit_juicer (6).mp3': 'máy ép trái cây (fruit juicer)', 'fruit_juicer (7).mp3': 'máy ép trái cây (fruit juicer)', 'fruit_juicer (8).mp3': 'máy ép trái cây (fruit juicer)', 'fruit_juicer (9).mp3': 'máy ép trái cây (fruit juicer)'}\n"
     ]
    }
   ],
   "source": [
    "# Khởi tạo dictionary để lưu trữ đường dẫn đến các tệp âm thanh\n",
    "audio_files = {}\n",
    "\n",
    "# Lặp qua từng hàng trong dữ liệu\n",
    "for index, row in data.iterrows():\n",
    "    # Lấy đường dẫn và nhãn từ các cột tương ứng\n",
    "    file_path = row['File']\n",
    "    label = row['label']\n",
    "    \n",
    "    # Thêm đường dẫn và nhãn vào dictionary\n",
    "    audio_files[file_path] = label\n",
    "print(audio_files)"
   ]
  },
  {
   "cell_type": "code",
   "execution_count": 8,
   "id": "c699ca13",
   "metadata": {},
   "outputs": [],
   "source": [
    "features_list = []\n",
    "labels_list = []\n",
    "for file, label in audio_files.items():\n",
    "    file_path = label+'/'+file\n",
    "    signal, sr = preprocess_audio(file_path)\n",
    "    features = extract_features(signal, sr)\n",
    "    features_list.append(features)\n",
    "    labels_list.append(label)"
   ]
  },
  {
   "cell_type": "code",
   "execution_count": 9,
   "id": "358fb999",
   "metadata": {},
   "outputs": [
    {
     "name": "stdout",
     "output_type": "stream",
     "text": [
      "                     File      mfcc_0      mfcc_1     mfcc_2     mfcc_3  \\\n",
      "0                mbn1.wav -268.443020   41.455886 -40.612264 -17.308881   \n",
      "1                mbn2.wav -157.457301  101.974231 -42.588496  31.309613   \n",
      "2                mbn3.wav   22.725151   55.852903 -27.948332  20.358179   \n",
      "3                mbn4.wav -233.081943  192.381976 -19.426254  31.769795   \n",
      "4                mbn5.wav  -36.186673  117.908198 -16.141211  15.004685   \n",
      "..                    ...         ...         ...        ...        ...   \n",
      "132  fruit_juicer (5).mp3  -71.217267   23.673646 -31.115233  35.601067   \n",
      "133  fruit_juicer (6).mp3  -71.033822   24.022198 -31.086751  35.630850   \n",
      "134  fruit_juicer (7).mp3  -71.145664   23.826301 -31.127248  35.639239   \n",
      "135  fruit_juicer (8).mp3  -71.196352   23.486149 -31.001125  35.437178   \n",
      "136  fruit_juicer (9).mp3  -70.823922   24.739848 -30.434238  36.081140   \n",
      "\n",
      "        mfcc_4     mfcc_5     mfcc_6     mfcc_7     mfcc_8     mfcc_9  \\\n",
      "0   -31.906897 -17.820238 -13.460588  12.786608  10.949058  14.195497   \n",
      "1   -26.737790  -9.932082 -14.711695   8.302465 -20.105950 -13.374212   \n",
      "2   -14.207521   2.928701 -25.863263  -3.050384 -15.152455  -3.810549   \n",
      "3    36.677684  -7.734391 -16.753056  23.787275  -5.700570  16.717753   \n",
      "4    -5.856167   3.264681 -15.816407   0.979555 -17.362912  11.240901   \n",
      "..         ...        ...        ...        ...        ...        ...   \n",
      "132 -12.399774   9.615681 -11.968393   2.800702  -8.869912  -0.243822   \n",
      "133 -12.191555   9.513719 -11.632528   3.042179  -8.586624  -0.417597   \n",
      "134 -12.279091   9.310399 -11.889496   2.749009  -8.856320  -0.339884   \n",
      "135 -12.296336   9.512270 -11.753697   2.864253  -8.686758  -0.645805   \n",
      "136 -11.688465   9.736908 -11.818146   2.640625  -7.943396  -0.435513   \n",
      "\n",
      "       mfcc_10   mfcc_11    mfcc_12  \n",
      "0    -0.083145  3.914842  -9.046750  \n",
      "1    -5.517983  7.278675   0.465725  \n",
      "2    -9.214336  3.244201 -23.774144  \n",
      "3    -0.264444  1.998877 -16.339971  \n",
      "4    -7.884042  9.728157 -15.415464  \n",
      "..         ...       ...        ...  \n",
      "132 -26.214930  1.196714 -24.566518  \n",
      "133 -26.270670  1.149320 -24.801553  \n",
      "134 -26.195592  1.154913 -24.716422  \n",
      "135 -26.019642  1.035065 -24.544651  \n",
      "136 -26.417156  0.941006 -25.013722  \n",
      "\n",
      "[137 rows x 14 columns]\n"
     ]
    }
   ],
   "source": [
    "df = pd.DataFrame({'File': audio_files.keys(), 'mfcc': features_list})\n",
    "mfcc_df = pd.DataFrame(df['mfcc'].tolist(), columns=['mfcc_{}'.format(i) for i in range(13)])\n",
    "result_df = pd.concat([df['File'], mfcc_df], axis=1)\n",
    "print(result_df)\n",
    "\n",
    "if os.path.exists('result.csv'):\n",
    "    os.remove('result.csv')\n",
    "    \n",
    "result_df.to_csv('result.csv', index=False)"
   ]
  },
  {
   "cell_type": "code",
   "execution_count": 10,
   "id": "89f9d87d",
   "metadata": {},
   "outputs": [],
   "source": [
    "# Huấn luyện mô hình\n",
    "rf_model = train_model(features_list, labels_list)"
   ]
  },
  {
   "cell_type": "code",
   "execution_count": 11,
   "id": "65ccb7b4",
   "metadata": {},
   "outputs": [],
   "source": [
    "import ipywidgets as widgets\n",
    "from IPython.display import display\n",
    "\n",
    "uploader = widgets.FileUpload(\n",
    "    accept='*.csv',  \n",
    "    multiple=False \n",
    ")"
   ]
  },
  {
   "cell_type": "code",
   "execution_count": 12,
   "id": "6aa1494c",
   "metadata": {},
   "outputs": [
    {
     "data": {
      "application/vnd.jupyter.widget-view+json": {
       "model_id": "57d655dda8064311985c73a180ebdede",
       "version_major": 2,
       "version_minor": 0
      },
      "text/plain": [
       "FileUpload(value={}, accept='*.csv', description='Upload')"
      ]
     },
     "metadata": {},
     "output_type": "display_data"
    }
   ],
   "source": [
    "def handle_upload(change):\n",
    "    uploaded_file = uploader.value\n",
    "    if uploaded_file:\n",
    "        file_name = next(iter(uploaded_file))\n",
    "        file_content = uploaded_file[file_name]['content']\n",
    "        \n",
    "        current_directory = os.getcwd()\n",
    "        file_path = os.path.join(current_directory, file_name)\n",
    "        with open(file_path, 'wb') as file:\n",
    "            file.write(file_content)\n",
    "\n",
    "        prediction = predict_audio(file_path, rf_model)\n",
    "\n",
    "        print(f'Phân loại của tệp âm thanh {file_path} là: {prediction}')\n",
    "\n",
    "uploader.observe(handle_upload, names='value')\n",
    "display(uploader)"
   ]
  },
  {
   "cell_type": "code",
   "execution_count": null,
   "id": "65118b75",
   "metadata": {},
   "outputs": [],
   "source": []
  }
 ],
 "metadata": {
  "kernelspec": {
   "display_name": "Python 3 (ipykernel)",
   "language": "python",
   "name": "python3"
  },
  "language_info": {
   "codemirror_mode": {
    "name": "ipython",
    "version": 3
   },
   "file_extension": ".py",
   "mimetype": "text/x-python",
   "name": "python",
   "nbconvert_exporter": "python",
   "pygments_lexer": "ipython3",
   "version": "3.9.12"
  }
 },
 "nbformat": 4,
 "nbformat_minor": 5
}
